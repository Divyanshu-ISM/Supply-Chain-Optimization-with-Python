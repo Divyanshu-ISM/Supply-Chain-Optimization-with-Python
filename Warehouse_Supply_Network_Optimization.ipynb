{
  "nbformat": 4,
  "nbformat_minor": 0,
  "metadata": {
    "colab": {
      "name": "Warehouse Supply Network Optimization.ipynb",
      "provenance": [],
      "authorship_tag": "ABX9TyM/0wjsU7U/KBumDWwYXN98"
    },
    "kernelspec": {
      "name": "python3",
      "display_name": "Python 3"
    },
    "language_info": {
      "name": "python"
    }
  },
  "cells": [
    {
      "cell_type": "code",
      "metadata": {
        "colab": {
          "base_uri": "https://localhost:8080/"
        },
        "id": "kiB8mSReugzr",
        "outputId": "4235b16c-eafe-4cd5-c2bb-1dde6e429737"
      },
      "source": [
        "!pip install pulp\n",
        "\n",
        "from pulp import *"
      ],
      "execution_count": 11,
      "outputs": [
        {
          "output_type": "stream",
          "name": "stdout",
          "text": [
            "Requirement already satisfied: pulp in /usr/local/lib/python3.7/dist-packages (2.6.0)\n"
          ]
        }
      ]
    },
    {
      "cell_type": "code",
      "metadata": {
        "id": "EkVmPDZJvR6_"
      },
      "source": [
        "import numpy as np\n",
        "import pandas as pd\n"
      ],
      "execution_count": 7,
      "outputs": []
    },
    {
      "cell_type": "markdown",
      "metadata": {
        "id": "jlfF7kuuvB41"
      },
      "source": [
        "# Warehouse Network Optimization\n",
        "\n",
        "You are working on a distribution plan for a warehouse network. The network has two warehouses (W1, and W2) and each can ship three different types of products (A, B, and C). W1 is small and can either ship 10 products A per a week or 15 products B per a week or 20 products C per a week. \n",
        "\n",
        "> ## You are looking to minimize the total costs."
      ]
    },
    {
      "cell_type": "code",
      "metadata": {
        "id": "iB1lo3LGuwha"
      },
      "source": [
        "cust = ['C1','C2','C3','C4']\n",
        "\n",
        "wh = ['W1','W2']\n",
        "\n",
        "prod = ['A', 'B', 'C']"
      ],
      "execution_count": 5,
      "outputs": []
    },
    {
      "cell_type": "code",
      "metadata": {
        "colab": {
          "base_uri": "https://localhost:8080/",
          "height": 143
        },
        "id": "iAOCKrV7vNYa",
        "outputId": "9316b172-5cda-4651-b14c-23d71bae970c"
      },
      "source": [
        "demand = pd.DataFrame({'C1':[10,17,23], 'C2':[8,11,20],'C3':[28,10,15],'C4':[0,6,13]}, \n",
        "                      index=['A','B','C'])\n",
        "\n",
        "demand"
      ],
      "execution_count": 8,
      "outputs": [
        {
          "output_type": "execute_result",
          "data": {
            "text/html": [
              "<div>\n",
              "<style scoped>\n",
              "    .dataframe tbody tr th:only-of-type {\n",
              "        vertical-align: middle;\n",
              "    }\n",
              "\n",
              "    .dataframe tbody tr th {\n",
              "        vertical-align: top;\n",
              "    }\n",
              "\n",
              "    .dataframe thead th {\n",
              "        text-align: right;\n",
              "    }\n",
              "</style>\n",
              "<table border=\"1\" class=\"dataframe\">\n",
              "  <thead>\n",
              "    <tr style=\"text-align: right;\">\n",
              "      <th></th>\n",
              "      <th>C1</th>\n",
              "      <th>C2</th>\n",
              "      <th>C3</th>\n",
              "      <th>C4</th>\n",
              "    </tr>\n",
              "  </thead>\n",
              "  <tbody>\n",
              "    <tr>\n",
              "      <th>A</th>\n",
              "      <td>10</td>\n",
              "      <td>8</td>\n",
              "      <td>28</td>\n",
              "      <td>0</td>\n",
              "    </tr>\n",
              "    <tr>\n",
              "      <th>B</th>\n",
              "      <td>17</td>\n",
              "      <td>11</td>\n",
              "      <td>10</td>\n",
              "      <td>6</td>\n",
              "    </tr>\n",
              "    <tr>\n",
              "      <th>C</th>\n",
              "      <td>23</td>\n",
              "      <td>20</td>\n",
              "      <td>15</td>\n",
              "      <td>13</td>\n",
              "    </tr>\n",
              "  </tbody>\n",
              "</table>\n",
              "</div>"
            ],
            "text/plain": [
              "   C1  C2  C3  C4\n",
              "A  10   8  28   0\n",
              "B  17  11  10   6\n",
              "C  23  20  15  13"
            ]
          },
          "metadata": {},
          "execution_count": 8
        }
      ]
    },
    {
      "cell_type": "code",
      "metadata": {
        "colab": {
          "base_uri": "https://localhost:8080/",
          "height": 237
        },
        "id": "vSDoYYNRvQaE",
        "outputId": "9b89d7f5-6aed-4666-8532-f035934f7040"
      },
      "source": [
        "costs = pd.DataFrame({('W1','A'):[81,92,110,130],('W1','B'):[117,77,108,98],('W1','C'):[107,97,102,104],\n",
        "             ('W2','A'):[102,105,115,130],('W2','B'):[189,132,200,192],('W2','C'):[108,98,103,105]}, \n",
        "            index=cust).T\n",
        "\n",
        "# costs.loc[('W1','A'),'C1']\n",
        "\n",
        "costs"
      ],
      "execution_count": 24,
      "outputs": [
        {
          "output_type": "execute_result",
          "data": {
            "text/html": [
              "<div>\n",
              "<style scoped>\n",
              "    .dataframe tbody tr th:only-of-type {\n",
              "        vertical-align: middle;\n",
              "    }\n",
              "\n",
              "    .dataframe tbody tr th {\n",
              "        vertical-align: top;\n",
              "    }\n",
              "\n",
              "    .dataframe thead th {\n",
              "        text-align: right;\n",
              "    }\n",
              "</style>\n",
              "<table border=\"1\" class=\"dataframe\">\n",
              "  <thead>\n",
              "    <tr style=\"text-align: right;\">\n",
              "      <th></th>\n",
              "      <th></th>\n",
              "      <th>C1</th>\n",
              "      <th>C2</th>\n",
              "      <th>C3</th>\n",
              "      <th>C4</th>\n",
              "    </tr>\n",
              "  </thead>\n",
              "  <tbody>\n",
              "    <tr>\n",
              "      <th rowspan=\"3\" valign=\"top\">W1</th>\n",
              "      <th>A</th>\n",
              "      <td>81</td>\n",
              "      <td>92</td>\n",
              "      <td>110</td>\n",
              "      <td>130</td>\n",
              "    </tr>\n",
              "    <tr>\n",
              "      <th>B</th>\n",
              "      <td>117</td>\n",
              "      <td>77</td>\n",
              "      <td>108</td>\n",
              "      <td>98</td>\n",
              "    </tr>\n",
              "    <tr>\n",
              "      <th>C</th>\n",
              "      <td>107</td>\n",
              "      <td>97</td>\n",
              "      <td>102</td>\n",
              "      <td>104</td>\n",
              "    </tr>\n",
              "    <tr>\n",
              "      <th rowspan=\"3\" valign=\"top\">W2</th>\n",
              "      <th>A</th>\n",
              "      <td>102</td>\n",
              "      <td>105</td>\n",
              "      <td>115</td>\n",
              "      <td>130</td>\n",
              "    </tr>\n",
              "    <tr>\n",
              "      <th>B</th>\n",
              "      <td>189</td>\n",
              "      <td>132</td>\n",
              "      <td>200</td>\n",
              "      <td>192</td>\n",
              "    </tr>\n",
              "    <tr>\n",
              "      <th>C</th>\n",
              "      <td>108</td>\n",
              "      <td>98</td>\n",
              "      <td>103</td>\n",
              "      <td>105</td>\n",
              "    </tr>\n",
              "  </tbody>\n",
              "</table>\n",
              "</div>"
            ],
            "text/plain": [
              "       C1   C2   C3   C4\n",
              "W1 A   81   92  110  130\n",
              "   B  117   77  108   98\n",
              "   C  107   97  102  104\n",
              "W2 A  102  105  115  130\n",
              "   B  189  132  200  192\n",
              "   C  108   98  103  105"
            ]
          },
          "metadata": {},
          "execution_count": 24
        }
      ]
    },
    {
      "cell_type": "markdown",
      "metadata": {
        "id": "qIkV5ZX8vcL5"
      },
      "source": [
        "# Initialize, Define Decision Vars., Objective Function, and Constraints"
      ]
    },
    {
      "cell_type": "markdown",
      "metadata": {
        "id": "4ttcHvDvv2qH"
      },
      "source": [
        ""
      ]
    },
    {
      "cell_type": "code",
      "metadata": {
        "colab": {
          "base_uri": "https://localhost:8080/"
        },
        "id": "sNIp4TJCv3Oo",
        "outputId": "261bc9a9-30cf-46df-9900-b1ec0a8cd444"
      },
      "source": [
        "model = LpProblem(\"Distribution Planning\", LpMinimize)"
      ],
      "execution_count": 14,
      "outputs": [
        {
          "output_type": "stream",
          "name": "stderr",
          "text": [
            "/usr/local/lib/python3.7/dist-packages/pulp/pulp.py:1352: UserWarning: Spaces are not permitted in the name. Converted to '_'\n",
            "  warnings.warn(\"Spaces are not permitted in the name. Converted to '_'\")\n"
          ]
        }
      ]
    },
    {
      "cell_type": "code",
      "metadata": {
        "id": "TwohZoo7vZTr"
      },
      "source": [
        "X = LpVariable.dicts(\"ship\", [(w, p, c) for c in cust for p in prod for w in wh], \n",
        "                     lowBound=0, cat=\"Integer\")"
      ],
      "execution_count": 15,
      "outputs": []
    },
    {
      "cell_type": "markdown",
      "metadata": {
        "id": "7OeMxfiJvvHx"
      },
      "source": [
        "# Objective Function"
      ]
    },
    {
      "cell_type": "code",
      "metadata": {
        "id": "8glqluykvlKn"
      },
      "source": [
        "model += lpSum([X[(w, p, c)]*costs.loc[(w, p), c]  for c in cust for p in prod for w in wh])"
      ],
      "execution_count": 16,
      "outputs": []
    },
    {
      "cell_type": "markdown",
      "metadata": {
        "id": "X_I6MNu1v9PS"
      },
      "source": [
        "# Constraints\n",
        "\n",
        "1. Shipment limitation based constraints\n",
        "2. Supply Demand balance based constraints."
      ]
    },
    {
      "cell_type": "code",
      "metadata": {
        "id": "LWZVhBD7vxeu"
      },
      "source": [
        "for c in cust:\n",
        "    for p in prod:\n",
        "        model += lpSum([X[(w, p, c)] for w in wh]) == demand.loc[p, c]\n",
        "\n",
        "# Define Dependent Demand Constraints\n",
        "model += ((1/10) * lpSum([X[('W1', 'A', c)] for c in cust]) \n",
        "        + (1/15) * lpSum([X[('W1', 'B', c)] for c in cust])\n",
        "        + (1/20) * lpSum([X[('W1', 'C', c)] for c in cust]))<=4"
      ],
      "execution_count": 17,
      "outputs": []
    },
    {
      "cell_type": "markdown",
      "metadata": {
        "id": "2zlkeqN-wFeT"
      },
      "source": [
        "# Solve the Model to obtain the respective delivery values"
      ]
    },
    {
      "cell_type": "code",
      "metadata": {
        "colab": {
          "base_uri": "https://localhost:8080/"
        },
        "id": "mKnVGMFVwEc2",
        "outputId": "b5982402-69ad-43cd-a62d-eb6a14a26e2d"
      },
      "source": [
        "model.solve()"
      ],
      "execution_count": 18,
      "outputs": [
        {
          "output_type": "execute_result",
          "data": {
            "text/plain": [
              "1"
            ]
          },
          "metadata": {},
          "execution_count": 18
        }
      ]
    },
    {
      "cell_type": "markdown",
      "metadata": {
        "id": "QUXy_MqewN1m"
      },
      "source": [
        "## Generate Model Results Report. \n",
        "\n",
        ">The result is basically the Number of each product shiped from a warehouse to a customer location."
      ]
    },
    {
      "cell_type": "code",
      "metadata": {
        "id": "7bx6tT5OwM_W"
      },
      "source": [
        "solutions = [{(w,p,c) : X[(w, p, c)].varValue} for c in cust for p in prod for w in wh]"
      ],
      "execution_count": 20,
      "outputs": []
    },
    {
      "cell_type": "code",
      "metadata": {
        "colab": {
          "base_uri": "https://localhost:8080/",
          "height": 237
        },
        "id": "Q1AVKBh8xI2M",
        "outputId": "063c15d4-cdbd-4fc9-f80a-9f36d5d0cfe2"
      },
      "source": [
        "solns = costs.copy()\n",
        "solns.values[:,:] = 0\n",
        "\n",
        "solns"
      ],
      "execution_count": 27,
      "outputs": [
        {
          "output_type": "execute_result",
          "data": {
            "text/html": [
              "<div>\n",
              "<style scoped>\n",
              "    .dataframe tbody tr th:only-of-type {\n",
              "        vertical-align: middle;\n",
              "    }\n",
              "\n",
              "    .dataframe tbody tr th {\n",
              "        vertical-align: top;\n",
              "    }\n",
              "\n",
              "    .dataframe thead th {\n",
              "        text-align: right;\n",
              "    }\n",
              "</style>\n",
              "<table border=\"1\" class=\"dataframe\">\n",
              "  <thead>\n",
              "    <tr style=\"text-align: right;\">\n",
              "      <th></th>\n",
              "      <th></th>\n",
              "      <th>C1</th>\n",
              "      <th>C2</th>\n",
              "      <th>C3</th>\n",
              "      <th>C4</th>\n",
              "    </tr>\n",
              "  </thead>\n",
              "  <tbody>\n",
              "    <tr>\n",
              "      <th rowspan=\"3\" valign=\"top\">W1</th>\n",
              "      <th>A</th>\n",
              "      <td>0</td>\n",
              "      <td>0</td>\n",
              "      <td>0</td>\n",
              "      <td>0</td>\n",
              "    </tr>\n",
              "    <tr>\n",
              "      <th>B</th>\n",
              "      <td>0</td>\n",
              "      <td>0</td>\n",
              "      <td>0</td>\n",
              "      <td>0</td>\n",
              "    </tr>\n",
              "    <tr>\n",
              "      <th>C</th>\n",
              "      <td>0</td>\n",
              "      <td>0</td>\n",
              "      <td>0</td>\n",
              "      <td>0</td>\n",
              "    </tr>\n",
              "    <tr>\n",
              "      <th rowspan=\"3\" valign=\"top\">W2</th>\n",
              "      <th>A</th>\n",
              "      <td>0</td>\n",
              "      <td>0</td>\n",
              "      <td>0</td>\n",
              "      <td>0</td>\n",
              "    </tr>\n",
              "    <tr>\n",
              "      <th>B</th>\n",
              "      <td>0</td>\n",
              "      <td>0</td>\n",
              "      <td>0</td>\n",
              "      <td>0</td>\n",
              "    </tr>\n",
              "    <tr>\n",
              "      <th>C</th>\n",
              "      <td>0</td>\n",
              "      <td>0</td>\n",
              "      <td>0</td>\n",
              "      <td>0</td>\n",
              "    </tr>\n",
              "  </tbody>\n",
              "</table>\n",
              "</div>"
            ],
            "text/plain": [
              "      C1  C2  C3  C4\n",
              "W1 A   0   0   0   0\n",
              "   B   0   0   0   0\n",
              "   C   0   0   0   0\n",
              "W2 A   0   0   0   0\n",
              "   B   0   0   0   0\n",
              "   C   0   0   0   0"
            ]
          },
          "metadata": {},
          "execution_count": 27
        }
      ]
    },
    {
      "cell_type": "code",
      "metadata": {
        "id": "ssOn_gnfwfW7"
      },
      "source": [
        "for w in wh:\n",
        "  for p in prod:\n",
        "    for c in cust:\n",
        "\n",
        "      solns.loc[(w,p),c] = X[(w, p, c)].varValue"
      ],
      "execution_count": 29,
      "outputs": []
    },
    {
      "cell_type": "code",
      "metadata": {
        "colab": {
          "base_uri": "https://localhost:8080/",
          "height": 237
        },
        "id": "Yp8841PcwndR",
        "outputId": "2c430221-199b-4053-fdb7-8840ce074b76"
      },
      "source": [
        "solns"
      ],
      "execution_count": 30,
      "outputs": [
        {
          "output_type": "execute_result",
          "data": {
            "text/html": [
              "<div>\n",
              "<style scoped>\n",
              "    .dataframe tbody tr th:only-of-type {\n",
              "        vertical-align: middle;\n",
              "    }\n",
              "\n",
              "    .dataframe tbody tr th {\n",
              "        vertical-align: top;\n",
              "    }\n",
              "\n",
              "    .dataframe thead th {\n",
              "        text-align: right;\n",
              "    }\n",
              "</style>\n",
              "<table border=\"1\" class=\"dataframe\">\n",
              "  <thead>\n",
              "    <tr style=\"text-align: right;\">\n",
              "      <th></th>\n",
              "      <th></th>\n",
              "      <th>C1</th>\n",
              "      <th>C2</th>\n",
              "      <th>C3</th>\n",
              "      <th>C4</th>\n",
              "    </tr>\n",
              "  </thead>\n",
              "  <tbody>\n",
              "    <tr>\n",
              "      <th rowspan=\"3\" valign=\"top\">W1</th>\n",
              "      <th>A</th>\n",
              "      <td>10</td>\n",
              "      <td>0</td>\n",
              "      <td>0</td>\n",
              "      <td>0</td>\n",
              "    </tr>\n",
              "    <tr>\n",
              "      <th>B</th>\n",
              "      <td>17</td>\n",
              "      <td>11</td>\n",
              "      <td>10</td>\n",
              "      <td>6</td>\n",
              "    </tr>\n",
              "    <tr>\n",
              "      <th>C</th>\n",
              "      <td>0</td>\n",
              "      <td>0</td>\n",
              "      <td>0</td>\n",
              "      <td>1</td>\n",
              "    </tr>\n",
              "    <tr>\n",
              "      <th rowspan=\"3\" valign=\"top\">W2</th>\n",
              "      <th>A</th>\n",
              "      <td>0</td>\n",
              "      <td>8</td>\n",
              "      <td>28</td>\n",
              "      <td>0</td>\n",
              "    </tr>\n",
              "    <tr>\n",
              "      <th>B</th>\n",
              "      <td>0</td>\n",
              "      <td>0</td>\n",
              "      <td>0</td>\n",
              "      <td>0</td>\n",
              "    </tr>\n",
              "    <tr>\n",
              "      <th>C</th>\n",
              "      <td>23</td>\n",
              "      <td>20</td>\n",
              "      <td>15</td>\n",
              "      <td>12</td>\n",
              "    </tr>\n",
              "  </tbody>\n",
              "</table>\n",
              "</div>"
            ],
            "text/plain": [
              "      C1  C2  C3  C4\n",
              "W1 A  10   0   0   0\n",
              "   B  17  11  10   6\n",
              "   C   0   0   0   1\n",
              "W2 A   0   8  28   0\n",
              "   B   0   0   0   0\n",
              "   C  23  20  15  12"
            ]
          },
          "metadata": {},
          "execution_count": 30
        }
      ]
    },
    {
      "cell_type": "markdown",
      "metadata": {
        "id": "UCRF9UYdyWye"
      },
      "source": [
        "### Conclusion : So, on a high level, for both W1 and W2, more shipments are to places (customers) where the costs of shipments are less relatively. \n",
        "\n",
        "Also, based on the constraint, the model has suggested lesser shipments for W1 as compared to W2"
      ]
    },
    {
      "cell_type": "code",
      "metadata": {
        "id": "N5rfoJarxjEL"
      },
      "source": [
        ""
      ],
      "execution_count": null,
      "outputs": []
    }
  ]
}