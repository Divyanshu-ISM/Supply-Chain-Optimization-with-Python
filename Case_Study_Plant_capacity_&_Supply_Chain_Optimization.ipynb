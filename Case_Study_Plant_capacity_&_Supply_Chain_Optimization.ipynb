{
  "nbformat": 4,
  "nbformat_minor": 0,
  "metadata": {
    "colab": {
      "name": "Case Study : Plant capacity & Supply Chain Optimization.ipynb",
      "provenance": [],
      "authorship_tag": "ABX9TyMdg3zpq6hnQuHj3NZWXsJQ"
    },
    "kernelspec": {
      "name": "python3",
      "display_name": "Python 3"
    },
    "language_info": {
      "name": "python"
    }
  },
  "cells": [
    {
      "cell_type": "markdown",
      "metadata": {
        "id": "s_jT3LtZVatT"
      },
      "source": [
        "# Case Study : Plant capacity & Supply Chain Optimization"
      ]
    },
    {
      "cell_type": "markdown",
      "metadata": {
        "id": "dYpXszA1VcIp"
      },
      "source": [
        "Assume the case study data is from a car manufacture optimizing its Supply Chain network across five regions (i.e. USA, Germany, Japan, Brazil, and India). You are given the demand, manufacturing capacity (thousands of cars) for each region, and the variable and fixed costs (thousands of $US dollars). Four Pandas DataFrames demand, var_cost, fix_cost, and cap have been created for you, and printed in the console, containing the regional demand, variable production costs, fixed production costs, and production capacity. The var_cost shows the costs of producing in location i shipping to location j. Which statement is true based on the data."
      ]
    },
    {
      "cell_type": "code",
      "metadata": {
        "colab": {
          "base_uri": "https://localhost:8080/"
        },
        "id": "WZXxmPFfZvF9",
        "outputId": "216e732a-635e-413d-aa7c-f70056a81f5a"
      },
      "source": [
        "!pip install pulp\n",
        "from pulp import *\n",
        "import numpy as np\n",
        "import pandas as pd"
      ],
      "execution_count": 29,
      "outputs": [
        {
          "output_type": "stream",
          "name": "stdout",
          "text": [
            "Requirement already satisfied: pulp in /usr/local/lib/python3.7/dist-packages (2.6.0)\n"
          ]
        }
      ]
    },
    {
      "cell_type": "code",
      "metadata": {
        "colab": {
          "base_uri": "https://localhost:8080/",
          "height": 206
        },
        "id": "d5MvZO9yVUhY",
        "outputId": "31551d05-3c48-407a-e937-804a0deba636"
      },
      "source": [
        "cap = np.array([[ 500, 1500],\n",
        "       [ 500, 1500],\n",
        "       [ 500, 1500],\n",
        "       [ 500, 1500],\n",
        "       [ 500, 1500]])\n",
        "\n",
        "cap = pd.DataFrame(cap, columns =['Low_Cap', 'High_Cap'], index=['USA', 'Germany', 'Japan', 'Brazil', 'India'])\n",
        "\n",
        "cap"
      ],
      "execution_count": 30,
      "outputs": [
        {
          "output_type": "execute_result",
          "data": {
            "text/html": [
              "<div>\n",
              "<style scoped>\n",
              "    .dataframe tbody tr th:only-of-type {\n",
              "        vertical-align: middle;\n",
              "    }\n",
              "\n",
              "    .dataframe tbody tr th {\n",
              "        vertical-align: top;\n",
              "    }\n",
              "\n",
              "    .dataframe thead th {\n",
              "        text-align: right;\n",
              "    }\n",
              "</style>\n",
              "<table border=\"1\" class=\"dataframe\">\n",
              "  <thead>\n",
              "    <tr style=\"text-align: right;\">\n",
              "      <th></th>\n",
              "      <th>Low_Cap</th>\n",
              "      <th>High_Cap</th>\n",
              "    </tr>\n",
              "  </thead>\n",
              "  <tbody>\n",
              "    <tr>\n",
              "      <th>USA</th>\n",
              "      <td>500</td>\n",
              "      <td>1500</td>\n",
              "    </tr>\n",
              "    <tr>\n",
              "      <th>Germany</th>\n",
              "      <td>500</td>\n",
              "      <td>1500</td>\n",
              "    </tr>\n",
              "    <tr>\n",
              "      <th>Japan</th>\n",
              "      <td>500</td>\n",
              "      <td>1500</td>\n",
              "    </tr>\n",
              "    <tr>\n",
              "      <th>Brazil</th>\n",
              "      <td>500</td>\n",
              "      <td>1500</td>\n",
              "    </tr>\n",
              "    <tr>\n",
              "      <th>India</th>\n",
              "      <td>500</td>\n",
              "      <td>1500</td>\n",
              "    </tr>\n",
              "  </tbody>\n",
              "</table>\n",
              "</div>"
            ],
            "text/plain": [
              "         Low_Cap  High_Cap\n",
              "USA          500      1500\n",
              "Germany      500      1500\n",
              "Japan        500      1500\n",
              "Brazil       500      1500\n",
              "India        500      1500"
            ]
          },
          "metadata": {},
          "execution_count": 30
        }
      ]
    },
    {
      "cell_type": "code",
      "metadata": {
        "colab": {
          "base_uri": "https://localhost:8080/",
          "height": 206
        },
        "id": "cK8A-Jx1Z8JQ",
        "outputId": "fc59f391-7a43-4b45-c472-6f5a61377ac4"
      },
      "source": [
        "fc = np.array([[6500, 9500],\n",
        "       [4980, 7270],\n",
        "       [6230, 9100],\n",
        "       [3230, 4730],\n",
        "       [2110, 3080]])\n",
        "\n",
        "fix_cost = pd.DataFrame(fc, columns =['Low_Cap', 'High_Cap'], \n",
        "                        index=['USA', 'Germany', 'Japan', 'Brazil', 'India'])\n",
        "\n",
        "fix_cost"
      ],
      "execution_count": 31,
      "outputs": [
        {
          "output_type": "execute_result",
          "data": {
            "text/html": [
              "<div>\n",
              "<style scoped>\n",
              "    .dataframe tbody tr th:only-of-type {\n",
              "        vertical-align: middle;\n",
              "    }\n",
              "\n",
              "    .dataframe tbody tr th {\n",
              "        vertical-align: top;\n",
              "    }\n",
              "\n",
              "    .dataframe thead th {\n",
              "        text-align: right;\n",
              "    }\n",
              "</style>\n",
              "<table border=\"1\" class=\"dataframe\">\n",
              "  <thead>\n",
              "    <tr style=\"text-align: right;\">\n",
              "      <th></th>\n",
              "      <th>Low_Cap</th>\n",
              "      <th>High_Cap</th>\n",
              "    </tr>\n",
              "  </thead>\n",
              "  <tbody>\n",
              "    <tr>\n",
              "      <th>USA</th>\n",
              "      <td>6500</td>\n",
              "      <td>9500</td>\n",
              "    </tr>\n",
              "    <tr>\n",
              "      <th>Germany</th>\n",
              "      <td>4980</td>\n",
              "      <td>7270</td>\n",
              "    </tr>\n",
              "    <tr>\n",
              "      <th>Japan</th>\n",
              "      <td>6230</td>\n",
              "      <td>9100</td>\n",
              "    </tr>\n",
              "    <tr>\n",
              "      <th>Brazil</th>\n",
              "      <td>3230</td>\n",
              "      <td>4730</td>\n",
              "    </tr>\n",
              "    <tr>\n",
              "      <th>India</th>\n",
              "      <td>2110</td>\n",
              "      <td>3080</td>\n",
              "    </tr>\n",
              "  </tbody>\n",
              "</table>\n",
              "</div>"
            ],
            "text/plain": [
              "         Low_Cap  High_Cap\n",
              "USA         6500      9500\n",
              "Germany     4980      7270\n",
              "Japan       6230      9100\n",
              "Brazil      3230      4730\n",
              "India       2110      3080"
            ]
          },
          "metadata": {},
          "execution_count": 31
        }
      ]
    },
    {
      "cell_type": "code",
      "metadata": {
        "colab": {
          "base_uri": "https://localhost:8080/",
          "height": 206
        },
        "id": "rXGFaVzGaAKH",
        "outputId": "f64eb3c1-6742-4338-bab1-fa70283b5e6d"
      },
      "source": [
        "var_cost = pd.DataFrame(\n",
        "                        data = np.array([[ 6, 13, 20, 12, 17],\n",
        "                                            [13,  6, 14, 14, 13],\n",
        "                                            [20, 14,  3, 21,  9],\n",
        "                                            [12, 14, 21,  8, 21],\n",
        "                                            [22, 13, 10, 23,  8]]),\n",
        "                        columns = ['USA', 'Germany', 'Japan', 'Brazil', 'India'],\n",
        "                        index = ['USA', 'Germany', 'Japan', 'Brazil', 'India'])\n",
        "\n",
        "#is in 1000 USD\n",
        "var_cost"
      ],
      "execution_count": 32,
      "outputs": [
        {
          "output_type": "execute_result",
          "data": {
            "text/html": [
              "<div>\n",
              "<style scoped>\n",
              "    .dataframe tbody tr th:only-of-type {\n",
              "        vertical-align: middle;\n",
              "    }\n",
              "\n",
              "    .dataframe tbody tr th {\n",
              "        vertical-align: top;\n",
              "    }\n",
              "\n",
              "    .dataframe thead th {\n",
              "        text-align: right;\n",
              "    }\n",
              "</style>\n",
              "<table border=\"1\" class=\"dataframe\">\n",
              "  <thead>\n",
              "    <tr style=\"text-align: right;\">\n",
              "      <th></th>\n",
              "      <th>USA</th>\n",
              "      <th>Germany</th>\n",
              "      <th>Japan</th>\n",
              "      <th>Brazil</th>\n",
              "      <th>India</th>\n",
              "    </tr>\n",
              "  </thead>\n",
              "  <tbody>\n",
              "    <tr>\n",
              "      <th>USA</th>\n",
              "      <td>6</td>\n",
              "      <td>13</td>\n",
              "      <td>20</td>\n",
              "      <td>12</td>\n",
              "      <td>17</td>\n",
              "    </tr>\n",
              "    <tr>\n",
              "      <th>Germany</th>\n",
              "      <td>13</td>\n",
              "      <td>6</td>\n",
              "      <td>14</td>\n",
              "      <td>14</td>\n",
              "      <td>13</td>\n",
              "    </tr>\n",
              "    <tr>\n",
              "      <th>Japan</th>\n",
              "      <td>20</td>\n",
              "      <td>14</td>\n",
              "      <td>3</td>\n",
              "      <td>21</td>\n",
              "      <td>9</td>\n",
              "    </tr>\n",
              "    <tr>\n",
              "      <th>Brazil</th>\n",
              "      <td>12</td>\n",
              "      <td>14</td>\n",
              "      <td>21</td>\n",
              "      <td>8</td>\n",
              "      <td>21</td>\n",
              "    </tr>\n",
              "    <tr>\n",
              "      <th>India</th>\n",
              "      <td>22</td>\n",
              "      <td>13</td>\n",
              "      <td>10</td>\n",
              "      <td>23</td>\n",
              "      <td>8</td>\n",
              "    </tr>\n",
              "  </tbody>\n",
              "</table>\n",
              "</div>"
            ],
            "text/plain": [
              "         USA  Germany  Japan  Brazil  India\n",
              "USA        6       13     20      12     17\n",
              "Germany   13        6     14      14     13\n",
              "Japan     20       14      3      21      9\n",
              "Brazil    12       14     21       8     21\n",
              "India     22       13     10      23      8"
            ]
          },
          "metadata": {},
          "execution_count": 32
        }
      ]
    },
    {
      "cell_type": "code",
      "metadata": {
        "colab": {
          "base_uri": "https://localhost:8080/",
          "height": 206
        },
        "id": "P4os2V6RaCnh",
        "outputId": "7fd2734d-ac3c-410c-e530-5d54c0a873f7"
      },
      "source": [
        "demand = pd.DataFrame(data = np.array([[2719.6],\n",
        "                                        [  84.1],\n",
        "                                        [1676.8],\n",
        "                                        [ 145.4],\n",
        "                                        [ 156.4]]),\n",
        "                      columns = ['Demand (x1000 cars)'],\n",
        "                     index = ['USA', 'Germany', 'Japan', 'Brazil', 'India'])\n",
        "\n",
        "demand"
      ],
      "execution_count": 33,
      "outputs": [
        {
          "output_type": "execute_result",
          "data": {
            "text/html": [
              "<div>\n",
              "<style scoped>\n",
              "    .dataframe tbody tr th:only-of-type {\n",
              "        vertical-align: middle;\n",
              "    }\n",
              "\n",
              "    .dataframe tbody tr th {\n",
              "        vertical-align: top;\n",
              "    }\n",
              "\n",
              "    .dataframe thead th {\n",
              "        text-align: right;\n",
              "    }\n",
              "</style>\n",
              "<table border=\"1\" class=\"dataframe\">\n",
              "  <thead>\n",
              "    <tr style=\"text-align: right;\">\n",
              "      <th></th>\n",
              "      <th>Demand (x1000 cars)</th>\n",
              "    </tr>\n",
              "  </thead>\n",
              "  <tbody>\n",
              "    <tr>\n",
              "      <th>USA</th>\n",
              "      <td>2719.6</td>\n",
              "    </tr>\n",
              "    <tr>\n",
              "      <th>Germany</th>\n",
              "      <td>84.1</td>\n",
              "    </tr>\n",
              "    <tr>\n",
              "      <th>Japan</th>\n",
              "      <td>1676.8</td>\n",
              "    </tr>\n",
              "    <tr>\n",
              "      <th>Brazil</th>\n",
              "      <td>145.4</td>\n",
              "    </tr>\n",
              "    <tr>\n",
              "      <th>India</th>\n",
              "      <td>156.4</td>\n",
              "    </tr>\n",
              "  </tbody>\n",
              "</table>\n",
              "</div>"
            ],
            "text/plain": [
              "         Demand (x1000 cars)\n",
              "USA                   2719.6\n",
              "Germany                 84.1\n",
              "Japan                 1676.8\n",
              "Brazil                 145.4\n",
              "India                  156.4"
            ]
          },
          "metadata": {},
          "execution_count": 33
        }
      ]
    },
    {
      "cell_type": "markdown",
      "metadata": {
        "id": "4trWhby9ae4C"
      },
      "source": [
        "## Step 1 : Define your problem statement.\n",
        "\n",
        "> You need to Minimize cost, so it is a LpMiniMize problem."
      ]
    },
    {
      "cell_type": "code",
      "metadata": {
        "colab": {
          "base_uri": "https://localhost:8080/"
        },
        "id": "iHLYkVwUaE-O",
        "outputId": "13a23e55-1614-4520-eb7c-eb1013d82d3d"
      },
      "source": [
        "# Initialize Class\n",
        "model = LpProblem(\"Capacitated Plant Location Model\", LpMinimize)"
      ],
      "execution_count": 34,
      "outputs": [
        {
          "output_type": "stream",
          "name": "stderr",
          "text": [
            "/usr/local/lib/python3.7/dist-packages/pulp/pulp.py:1352: UserWarning: Spaces are not permitted in the name. Converted to '_'\n",
            "  warnings.warn(\"Spaces are not permitted in the name. Converted to '_'\")\n"
          ]
        }
      ]
    },
    {
      "cell_type": "markdown",
      "metadata": {
        "id": "9Fq2voJbai_R"
      },
      "source": [
        "# Step 2 : Define details relevant to the supply chain problem. \n",
        "\n",
        "> Plant locations, Plant sizes etc."
      ]
    },
    {
      "cell_type": "code",
      "metadata": {
        "id": "DvSpCXg8a7IJ"
      },
      "source": [
        "# Define Decision Variables\n",
        "loc = ['USA', 'Germany', 'Japan', 'Brazil', 'India']\n",
        "size = ['Low_Cap','High_Cap']"
      ],
      "execution_count": 35,
      "outputs": []
    },
    {
      "cell_type": "markdown",
      "metadata": {
        "id": "dIV3Xq23a9fq"
      },
      "source": [
        "# Step 3 : Create Decision Variables : Stuff you can control.\n",
        "\n",
        "> Plant operation status $(y_{si})$\n",
        "\n",
        "> Quantity produced and transported from i to j $(x_{ij})$"
      ]
    },
    {
      "cell_type": "code",
      "metadata": {
        "id": "W_wHVjbPa9AW"
      },
      "source": [
        "x = LpVariable.dicts(name='Export_Qtty_iToj', indices=[(i,j) for i in loc for j in loc],\n",
        "                     lowBound=0, cat='Continuous')\n",
        "\n",
        "y = LpVariable.dicts(name='Operational_status_of_Plant_si', indices=[(s,i) for s in size for i in loc],\n",
        "                      cat='Binary')"
      ],
      "execution_count": 36,
      "outputs": []
    },
    {
      "cell_type": "markdown",
      "metadata": {
        "id": "5LUThLKwdYC1"
      },
      "source": [
        "# Step 4 : Define Objective Function.\n",
        "\n",
        "Minimize cost. \n",
        "\n",
        "Cost = Fix + Variable\n",
        "\n",
        ">> Fixed cost is the one needed to keep plant operational\n",
        "\n",
        ">> Variable cost is the one needed to transport/export"
      ]
    },
    {
      "cell_type": "markdown",
      "metadata": {
        "id": "2cVrIJv9d-vQ"
      },
      "source": [
        "Lets Assume (per the magnitude) Fixed cost is overall and variable cost given is per 1000s of manufactured cars (the unit of X)"
      ]
    },
    {
      "cell_type": "code",
      "metadata": {
        "colab": {
          "base_uri": "https://localhost:8080/",
          "height": 206
        },
        "id": "kHOYd-IVdY8F",
        "outputId": "485d9ce2-30aa-4ca6-95b9-f0c737a59838"
      },
      "source": [
        "fix_cost"
      ],
      "execution_count": 37,
      "outputs": [
        {
          "output_type": "execute_result",
          "data": {
            "text/html": [
              "<div>\n",
              "<style scoped>\n",
              "    .dataframe tbody tr th:only-of-type {\n",
              "        vertical-align: middle;\n",
              "    }\n",
              "\n",
              "    .dataframe tbody tr th {\n",
              "        vertical-align: top;\n",
              "    }\n",
              "\n",
              "    .dataframe thead th {\n",
              "        text-align: right;\n",
              "    }\n",
              "</style>\n",
              "<table border=\"1\" class=\"dataframe\">\n",
              "  <thead>\n",
              "    <tr style=\"text-align: right;\">\n",
              "      <th></th>\n",
              "      <th>Low_Cap</th>\n",
              "      <th>High_Cap</th>\n",
              "    </tr>\n",
              "  </thead>\n",
              "  <tbody>\n",
              "    <tr>\n",
              "      <th>USA</th>\n",
              "      <td>6500</td>\n",
              "      <td>9500</td>\n",
              "    </tr>\n",
              "    <tr>\n",
              "      <th>Germany</th>\n",
              "      <td>4980</td>\n",
              "      <td>7270</td>\n",
              "    </tr>\n",
              "    <tr>\n",
              "      <th>Japan</th>\n",
              "      <td>6230</td>\n",
              "      <td>9100</td>\n",
              "    </tr>\n",
              "    <tr>\n",
              "      <th>Brazil</th>\n",
              "      <td>3230</td>\n",
              "      <td>4730</td>\n",
              "    </tr>\n",
              "    <tr>\n",
              "      <th>India</th>\n",
              "      <td>2110</td>\n",
              "      <td>3080</td>\n",
              "    </tr>\n",
              "  </tbody>\n",
              "</table>\n",
              "</div>"
            ],
            "text/plain": [
              "         Low_Cap  High_Cap\n",
              "USA         6500      9500\n",
              "Germany     4980      7270\n",
              "Japan       6230      9100\n",
              "Brazil      3230      4730\n",
              "India       2110      3080"
            ]
          },
          "metadata": {},
          "execution_count": 37
        }
      ]
    },
    {
      "cell_type": "code",
      "metadata": {
        "colab": {
          "base_uri": "https://localhost:8080/",
          "height": 206
        },
        "id": "prKzEE1edZTh",
        "outputId": "7822133d-0ed1-4212-fe6e-75dfc919081a"
      },
      "source": [
        "var_cost"
      ],
      "execution_count": 38,
      "outputs": [
        {
          "output_type": "execute_result",
          "data": {
            "text/html": [
              "<div>\n",
              "<style scoped>\n",
              "    .dataframe tbody tr th:only-of-type {\n",
              "        vertical-align: middle;\n",
              "    }\n",
              "\n",
              "    .dataframe tbody tr th {\n",
              "        vertical-align: top;\n",
              "    }\n",
              "\n",
              "    .dataframe thead th {\n",
              "        text-align: right;\n",
              "    }\n",
              "</style>\n",
              "<table border=\"1\" class=\"dataframe\">\n",
              "  <thead>\n",
              "    <tr style=\"text-align: right;\">\n",
              "      <th></th>\n",
              "      <th>USA</th>\n",
              "      <th>Germany</th>\n",
              "      <th>Japan</th>\n",
              "      <th>Brazil</th>\n",
              "      <th>India</th>\n",
              "    </tr>\n",
              "  </thead>\n",
              "  <tbody>\n",
              "    <tr>\n",
              "      <th>USA</th>\n",
              "      <td>6</td>\n",
              "      <td>13</td>\n",
              "      <td>20</td>\n",
              "      <td>12</td>\n",
              "      <td>17</td>\n",
              "    </tr>\n",
              "    <tr>\n",
              "      <th>Germany</th>\n",
              "      <td>13</td>\n",
              "      <td>6</td>\n",
              "      <td>14</td>\n",
              "      <td>14</td>\n",
              "      <td>13</td>\n",
              "    </tr>\n",
              "    <tr>\n",
              "      <th>Japan</th>\n",
              "      <td>20</td>\n",
              "      <td>14</td>\n",
              "      <td>3</td>\n",
              "      <td>21</td>\n",
              "      <td>9</td>\n",
              "    </tr>\n",
              "    <tr>\n",
              "      <th>Brazil</th>\n",
              "      <td>12</td>\n",
              "      <td>14</td>\n",
              "      <td>21</td>\n",
              "      <td>8</td>\n",
              "      <td>21</td>\n",
              "    </tr>\n",
              "    <tr>\n",
              "      <th>India</th>\n",
              "      <td>22</td>\n",
              "      <td>13</td>\n",
              "      <td>10</td>\n",
              "      <td>23</td>\n",
              "      <td>8</td>\n",
              "    </tr>\n",
              "  </tbody>\n",
              "</table>\n",
              "</div>"
            ],
            "text/plain": [
              "         USA  Germany  Japan  Brazil  India\n",
              "USA        6       13     20      12     17\n",
              "Germany   13        6     14      14     13\n",
              "Japan     20       14      3      21      9\n",
              "Brazil    12       14     21       8     21\n",
              "India     22       13     10      23      8"
            ]
          },
          "metadata": {},
          "execution_count": 38
        }
      ]
    },
    {
      "cell_type": "code",
      "metadata": {
        "id": "HKJn8WU7dYjL"
      },
      "source": [
        "model += (lpSum([x[(i,j)]*var_cost.loc[i,j] for i in loc for j in loc]) +\n",
        "          lpSum([y[(s,i)]*fix_cost.loc[i,s] for s in size for i in loc]))"
      ],
      "execution_count": 39,
      "outputs": []
    },
    {
      "cell_type": "markdown",
      "metadata": {
        "id": "Xfu1EfJUcSht"
      },
      "source": [
        "# Step 4 : Define Constraints. \n",
        "\n",
        "> Supply == Demand\n",
        "\n",
        "> production <= Capacity"
      ]
    },
    {
      "cell_type": "code",
      "metadata": {
        "colab": {
          "base_uri": "https://localhost:8080/",
          "height": 206
        },
        "id": "a_HXWvc7b9OU",
        "outputId": "faaf177c-8736-4f3e-e89d-0fe4796fe05d"
      },
      "source": [
        "demand"
      ],
      "execution_count": 40,
      "outputs": [
        {
          "output_type": "execute_result",
          "data": {
            "text/html": [
              "<div>\n",
              "<style scoped>\n",
              "    .dataframe tbody tr th:only-of-type {\n",
              "        vertical-align: middle;\n",
              "    }\n",
              "\n",
              "    .dataframe tbody tr th {\n",
              "        vertical-align: top;\n",
              "    }\n",
              "\n",
              "    .dataframe thead th {\n",
              "        text-align: right;\n",
              "    }\n",
              "</style>\n",
              "<table border=\"1\" class=\"dataframe\">\n",
              "  <thead>\n",
              "    <tr style=\"text-align: right;\">\n",
              "      <th></th>\n",
              "      <th>Demand (x1000 cars)</th>\n",
              "    </tr>\n",
              "  </thead>\n",
              "  <tbody>\n",
              "    <tr>\n",
              "      <th>USA</th>\n",
              "      <td>2719.6</td>\n",
              "    </tr>\n",
              "    <tr>\n",
              "      <th>Germany</th>\n",
              "      <td>84.1</td>\n",
              "    </tr>\n",
              "    <tr>\n",
              "      <th>Japan</th>\n",
              "      <td>1676.8</td>\n",
              "    </tr>\n",
              "    <tr>\n",
              "      <th>Brazil</th>\n",
              "      <td>145.4</td>\n",
              "    </tr>\n",
              "    <tr>\n",
              "      <th>India</th>\n",
              "      <td>156.4</td>\n",
              "    </tr>\n",
              "  </tbody>\n",
              "</table>\n",
              "</div>"
            ],
            "text/plain": [
              "         Demand (x1000 cars)\n",
              "USA                   2719.6\n",
              "Germany                 84.1\n",
              "Japan                 1676.8\n",
              "Brazil                 145.4\n",
              "India                  156.4"
            ]
          },
          "metadata": {},
          "execution_count": 40
        }
      ]
    },
    {
      "cell_type": "markdown",
      "metadata": {
        "id": "JbCqI6XjcjxY"
      },
      "source": [
        "Supply/Production is defined by our variable x"
      ]
    },
    {
      "cell_type": "markdown",
      "metadata": {
        "id": "1P1d8DEJcvcc"
      },
      "source": [
        "#### For example, supply to USA is a contribution of Germany + Japan + Brazil + India production/export"
      ]
    },
    {
      "cell_type": "markdown",
      "metadata": {
        "id": "7AXRhkZOfOag"
      },
      "source": [
        "##### Constraint 1 : Supply Demand balance"
      ]
    },
    {
      "cell_type": "code",
      "metadata": {
        "id": "K5eLettvci3d"
      },
      "source": [
        "for j in loc:\n",
        "\n",
        "  model += lpSum([x[(i,j)] for i in loc]) == demand.loc[j, 'Demand (x1000 cars)']"
      ],
      "execution_count": 41,
      "outputs": []
    },
    {
      "cell_type": "markdown",
      "metadata": {
        "id": "YQ1OJimYf673"
      },
      "source": [
        "#### Constraint 2 : Production Capacity constraint.\n",
        "\n",
        "> given : manufacturing capacity (thousands of cars) "
      ]
    },
    {
      "cell_type": "code",
      "metadata": {
        "colab": {
          "base_uri": "https://localhost:8080/",
          "height": 206
        },
        "id": "S1mHeeCogFXQ",
        "outputId": "2484432c-cfff-4a9b-a394-14d97883bbd6"
      },
      "source": [
        "cap"
      ],
      "execution_count": 42,
      "outputs": [
        {
          "output_type": "execute_result",
          "data": {
            "text/html": [
              "<div>\n",
              "<style scoped>\n",
              "    .dataframe tbody tr th:only-of-type {\n",
              "        vertical-align: middle;\n",
              "    }\n",
              "\n",
              "    .dataframe tbody tr th {\n",
              "        vertical-align: top;\n",
              "    }\n",
              "\n",
              "    .dataframe thead th {\n",
              "        text-align: right;\n",
              "    }\n",
              "</style>\n",
              "<table border=\"1\" class=\"dataframe\">\n",
              "  <thead>\n",
              "    <tr style=\"text-align: right;\">\n",
              "      <th></th>\n",
              "      <th>Low_Cap</th>\n",
              "      <th>High_Cap</th>\n",
              "    </tr>\n",
              "  </thead>\n",
              "  <tbody>\n",
              "    <tr>\n",
              "      <th>USA</th>\n",
              "      <td>500</td>\n",
              "      <td>1500</td>\n",
              "    </tr>\n",
              "    <tr>\n",
              "      <th>Germany</th>\n",
              "      <td>500</td>\n",
              "      <td>1500</td>\n",
              "    </tr>\n",
              "    <tr>\n",
              "      <th>Japan</th>\n",
              "      <td>500</td>\n",
              "      <td>1500</td>\n",
              "    </tr>\n",
              "    <tr>\n",
              "      <th>Brazil</th>\n",
              "      <td>500</td>\n",
              "      <td>1500</td>\n",
              "    </tr>\n",
              "    <tr>\n",
              "      <th>India</th>\n",
              "      <td>500</td>\n",
              "      <td>1500</td>\n",
              "    </tr>\n",
              "  </tbody>\n",
              "</table>\n",
              "</div>"
            ],
            "text/plain": [
              "         Low_Cap  High_Cap\n",
              "USA          500      1500\n",
              "Germany      500      1500\n",
              "Japan        500      1500\n",
              "Brazil       500      1500\n",
              "India        500      1500"
            ]
          },
          "metadata": {},
          "execution_count": 42
        }
      ]
    },
    {
      "cell_type": "code",
      "metadata": {
        "id": "h8_tR61cf6H2"
      },
      "source": [
        "for i in loc:\n",
        "    model += lpSum([x[(i, j)] for j in loc]) <= lpSum([cap.loc[i,s]*y[(s,i)]\n",
        "                                                      for s in size])"
      ],
      "execution_count": 43,
      "outputs": []
    },
    {
      "cell_type": "markdown",
      "metadata": {
        "id": "po8yyIYbiKYk"
      },
      "source": [
        "# Step 5 : SOLVE!"
      ]
    },
    {
      "cell_type": "code",
      "metadata": {
        "colab": {
          "base_uri": "https://localhost:8080/"
        },
        "id": "6VfWT3Kigqmu",
        "outputId": "7ccc6199-83c2-4f17-8a68-2a023009858b"
      },
      "source": [
        "model.solve()"
      ],
      "execution_count": 44,
      "outputs": [
        {
          "output_type": "execute_result",
          "data": {
            "text/plain": [
              "1"
            ]
          },
          "metadata": {},
          "execution_count": 44
        }
      ]
    },
    {
      "cell_type": "markdown",
      "metadata": {
        "id": "F8UBKamtjOvR"
      },
      "source": [
        "## Storing results\n",
        "\n",
        "1. Exports/Supply"
      ]
    },
    {
      "cell_type": "code",
      "metadata": {
        "colab": {
          "base_uri": "https://localhost:8080/",
          "height": 206
        },
        "id": "3BRW_oJ-jUFw",
        "outputId": "46904c74-613d-487e-f6fb-5386a2f93e28"
      },
      "source": [
        "supply = var_cost.copy() ; supply.values[:,:] = 0\n",
        "\n",
        "supply"
      ],
      "execution_count": 48,
      "outputs": [
        {
          "output_type": "execute_result",
          "data": {
            "text/html": [
              "<div>\n",
              "<style scoped>\n",
              "    .dataframe tbody tr th:only-of-type {\n",
              "        vertical-align: middle;\n",
              "    }\n",
              "\n",
              "    .dataframe tbody tr th {\n",
              "        vertical-align: top;\n",
              "    }\n",
              "\n",
              "    .dataframe thead th {\n",
              "        text-align: right;\n",
              "    }\n",
              "</style>\n",
              "<table border=\"1\" class=\"dataframe\">\n",
              "  <thead>\n",
              "    <tr style=\"text-align: right;\">\n",
              "      <th></th>\n",
              "      <th>USA</th>\n",
              "      <th>Germany</th>\n",
              "      <th>Japan</th>\n",
              "      <th>Brazil</th>\n",
              "      <th>India</th>\n",
              "    </tr>\n",
              "  </thead>\n",
              "  <tbody>\n",
              "    <tr>\n",
              "      <th>USA</th>\n",
              "      <td>0</td>\n",
              "      <td>0</td>\n",
              "      <td>0</td>\n",
              "      <td>0</td>\n",
              "      <td>0</td>\n",
              "    </tr>\n",
              "    <tr>\n",
              "      <th>Germany</th>\n",
              "      <td>0</td>\n",
              "      <td>0</td>\n",
              "      <td>0</td>\n",
              "      <td>0</td>\n",
              "      <td>0</td>\n",
              "    </tr>\n",
              "    <tr>\n",
              "      <th>Japan</th>\n",
              "      <td>0</td>\n",
              "      <td>0</td>\n",
              "      <td>0</td>\n",
              "      <td>0</td>\n",
              "      <td>0</td>\n",
              "    </tr>\n",
              "    <tr>\n",
              "      <th>Brazil</th>\n",
              "      <td>0</td>\n",
              "      <td>0</td>\n",
              "      <td>0</td>\n",
              "      <td>0</td>\n",
              "      <td>0</td>\n",
              "    </tr>\n",
              "    <tr>\n",
              "      <th>India</th>\n",
              "      <td>0</td>\n",
              "      <td>0</td>\n",
              "      <td>0</td>\n",
              "      <td>0</td>\n",
              "      <td>0</td>\n",
              "    </tr>\n",
              "  </tbody>\n",
              "</table>\n",
              "</div>"
            ],
            "text/plain": [
              "         USA  Germany  Japan  Brazil  India\n",
              "USA        0        0      0       0      0\n",
              "Germany    0        0      0       0      0\n",
              "Japan      0        0      0       0      0\n",
              "Brazil     0        0      0       0      0\n",
              "India      0        0      0       0      0"
            ]
          },
          "metadata": {},
          "execution_count": 48
        }
      ]
    },
    {
      "cell_type": "code",
      "metadata": {
        "colab": {
          "base_uri": "https://localhost:8080/"
        },
        "id": "FNY5NowiiO8g",
        "outputId": "90e46883-1488-4d65-b461-3e05891a9543"
      },
      "source": [
        "for i in loc:\n",
        "  for j in loc:\n",
        "    print(f'X({i},{j}) = {x[(i,j)].varValue}')\n",
        "\n",
        "    supply.loc[i,j] = x[(i,j)].varValue\n",
        "\n"
      ],
      "execution_count": 49,
      "outputs": [
        {
          "output_type": "stream",
          "name": "stdout",
          "text": [
            "X(USA,USA) = 1500.0\n",
            "X(USA,Germany) = 0.0\n",
            "X(USA,Japan) = 0.0\n",
            "X(USA,Brazil) = 0.0\n",
            "X(USA,India) = 0.0\n",
            "X(Germany,USA) = 0.0\n",
            "X(Germany,Germany) = 0.0\n",
            "X(Germany,Japan) = 0.0\n",
            "X(Germany,Brazil) = 0.0\n",
            "X(Germany,India) = 0.0\n",
            "X(Japan,USA) = 0.0\n",
            "X(Japan,Germany) = 0.0\n",
            "X(Japan,Japan) = 1500.0\n",
            "X(Japan,Brazil) = 0.0\n",
            "X(Japan,India) = 0.0\n",
            "X(Brazil,USA) = 1219.6\n",
            "X(Brazil,Germany) = 0.0\n",
            "X(Brazil,Japan) = 0.0\n",
            "X(Brazil,Brazil) = 145.4\n",
            "X(Brazil,India) = 0.0\n",
            "X(India,USA) = 0.0\n",
            "X(India,Germany) = 84.1\n",
            "X(India,Japan) = 176.8\n",
            "X(India,Brazil) = 0.0\n",
            "X(India,India) = 156.4\n"
          ]
        }
      ]
    },
    {
      "cell_type": "code",
      "metadata": {
        "colab": {
          "base_uri": "https://localhost:8080/",
          "height": 206
        },
        "id": "FHmJQ2ycjABw",
        "outputId": "d184fc80-6845-4964-ae5c-3a121b6d8e89"
      },
      "source": [
        "supply"
      ],
      "execution_count": 50,
      "outputs": [
        {
          "output_type": "execute_result",
          "data": {
            "text/html": [
              "<div>\n",
              "<style scoped>\n",
              "    .dataframe tbody tr th:only-of-type {\n",
              "        vertical-align: middle;\n",
              "    }\n",
              "\n",
              "    .dataframe tbody tr th {\n",
              "        vertical-align: top;\n",
              "    }\n",
              "\n",
              "    .dataframe thead th {\n",
              "        text-align: right;\n",
              "    }\n",
              "</style>\n",
              "<table border=\"1\" class=\"dataframe\">\n",
              "  <thead>\n",
              "    <tr style=\"text-align: right;\">\n",
              "      <th></th>\n",
              "      <th>USA</th>\n",
              "      <th>Germany</th>\n",
              "      <th>Japan</th>\n",
              "      <th>Brazil</th>\n",
              "      <th>India</th>\n",
              "    </tr>\n",
              "  </thead>\n",
              "  <tbody>\n",
              "    <tr>\n",
              "      <th>USA</th>\n",
              "      <td>1500.0</td>\n",
              "      <td>0.0</td>\n",
              "      <td>0.0</td>\n",
              "      <td>0.0</td>\n",
              "      <td>0.0</td>\n",
              "    </tr>\n",
              "    <tr>\n",
              "      <th>Germany</th>\n",
              "      <td>0.0</td>\n",
              "      <td>0.0</td>\n",
              "      <td>0.0</td>\n",
              "      <td>0.0</td>\n",
              "      <td>0.0</td>\n",
              "    </tr>\n",
              "    <tr>\n",
              "      <th>Japan</th>\n",
              "      <td>0.0</td>\n",
              "      <td>0.0</td>\n",
              "      <td>1500.0</td>\n",
              "      <td>0.0</td>\n",
              "      <td>0.0</td>\n",
              "    </tr>\n",
              "    <tr>\n",
              "      <th>Brazil</th>\n",
              "      <td>1219.6</td>\n",
              "      <td>0.0</td>\n",
              "      <td>0.0</td>\n",
              "      <td>145.4</td>\n",
              "      <td>0.0</td>\n",
              "    </tr>\n",
              "    <tr>\n",
              "      <th>India</th>\n",
              "      <td>0.0</td>\n",
              "      <td>84.1</td>\n",
              "      <td>176.8</td>\n",
              "      <td>0.0</td>\n",
              "      <td>156.4</td>\n",
              "    </tr>\n",
              "  </tbody>\n",
              "</table>\n",
              "</div>"
            ],
            "text/plain": [
              "            USA  Germany   Japan  Brazil  India\n",
              "USA      1500.0      0.0     0.0     0.0    0.0\n",
              "Germany     0.0      0.0     0.0     0.0    0.0\n",
              "Japan       0.0      0.0  1500.0     0.0    0.0\n",
              "Brazil   1219.6      0.0     0.0   145.4    0.0\n",
              "India       0.0     84.1   176.8     0.0  156.4"
            ]
          },
          "metadata": {},
          "execution_count": 50
        }
      ]
    },
    {
      "cell_type": "markdown",
      "metadata": {
        "id": "O8vKvEBQjxo_"
      },
      "source": [
        "2. Plants operational status"
      ]
    },
    {
      "cell_type": "code",
      "metadata": {
        "colab": {
          "base_uri": "https://localhost:8080/",
          "height": 206
        },
        "id": "awXwLlm2j1BV",
        "outputId": "810d747f-1e4b-4ca3-f8f3-bf0e599b89a3"
      },
      "source": [
        "opstatus = cap.copy() ; opstatus.values[:,:] = 0\n",
        "\n",
        "opstatus"
      ],
      "execution_count": 53,
      "outputs": [
        {
          "output_type": "execute_result",
          "data": {
            "text/html": [
              "<div>\n",
              "<style scoped>\n",
              "    .dataframe tbody tr th:only-of-type {\n",
              "        vertical-align: middle;\n",
              "    }\n",
              "\n",
              "    .dataframe tbody tr th {\n",
              "        vertical-align: top;\n",
              "    }\n",
              "\n",
              "    .dataframe thead th {\n",
              "        text-align: right;\n",
              "    }\n",
              "</style>\n",
              "<table border=\"1\" class=\"dataframe\">\n",
              "  <thead>\n",
              "    <tr style=\"text-align: right;\">\n",
              "      <th></th>\n",
              "      <th>Low_Cap</th>\n",
              "      <th>High_Cap</th>\n",
              "    </tr>\n",
              "  </thead>\n",
              "  <tbody>\n",
              "    <tr>\n",
              "      <th>USA</th>\n",
              "      <td>0</td>\n",
              "      <td>0</td>\n",
              "    </tr>\n",
              "    <tr>\n",
              "      <th>Germany</th>\n",
              "      <td>0</td>\n",
              "      <td>0</td>\n",
              "    </tr>\n",
              "    <tr>\n",
              "      <th>Japan</th>\n",
              "      <td>0</td>\n",
              "      <td>0</td>\n",
              "    </tr>\n",
              "    <tr>\n",
              "      <th>Brazil</th>\n",
              "      <td>0</td>\n",
              "      <td>0</td>\n",
              "    </tr>\n",
              "    <tr>\n",
              "      <th>India</th>\n",
              "      <td>0</td>\n",
              "      <td>0</td>\n",
              "    </tr>\n",
              "  </tbody>\n",
              "</table>\n",
              "</div>"
            ],
            "text/plain": [
              "         Low_Cap  High_Cap\n",
              "USA            0         0\n",
              "Germany        0         0\n",
              "Japan          0         0\n",
              "Brazil         0         0\n",
              "India          0         0"
            ]
          },
          "metadata": {},
          "execution_count": 53
        }
      ]
    },
    {
      "cell_type": "code",
      "metadata": {
        "colab": {
          "base_uri": "https://localhost:8080/"
        },
        "id": "NUV80_9WjgA6",
        "outputId": "bb359675-4d9d-415b-a09f-df6871cec120"
      },
      "source": [
        "for s in size:\n",
        "  for i in loc:\n",
        "\n",
        "    print(f'y[{s},{i}] = {y[(s,i)].varValue}')\n",
        "\n",
        "    opstatus.loc[i,s] = y[(s,i)].varValue"
      ],
      "execution_count": 54,
      "outputs": [
        {
          "output_type": "stream",
          "name": "stdout",
          "text": [
            "y[Low_Cap,USA] = 0.0\n",
            "y[Low_Cap,Germany] = 0.0\n",
            "y[Low_Cap,Japan] = 0.0\n",
            "y[Low_Cap,Brazil] = 0.0\n",
            "y[Low_Cap,India] = 1.0\n",
            "y[High_Cap,USA] = 1.0\n",
            "y[High_Cap,Germany] = 0.0\n",
            "y[High_Cap,Japan] = 1.0\n",
            "y[High_Cap,Brazil] = 1.0\n",
            "y[High_Cap,India] = 0.0\n"
          ]
        }
      ]
    },
    {
      "cell_type": "code",
      "metadata": {
        "colab": {
          "base_uri": "https://localhost:8080/",
          "height": 206
        },
        "id": "fbCEp7lojtoa",
        "outputId": "3dd14f00-71c4-4fda-e147-4344c9b730b6"
      },
      "source": [
        "opstatus"
      ],
      "execution_count": 55,
      "outputs": [
        {
          "output_type": "execute_result",
          "data": {
            "text/html": [
              "<div>\n",
              "<style scoped>\n",
              "    .dataframe tbody tr th:only-of-type {\n",
              "        vertical-align: middle;\n",
              "    }\n",
              "\n",
              "    .dataframe tbody tr th {\n",
              "        vertical-align: top;\n",
              "    }\n",
              "\n",
              "    .dataframe thead th {\n",
              "        text-align: right;\n",
              "    }\n",
              "</style>\n",
              "<table border=\"1\" class=\"dataframe\">\n",
              "  <thead>\n",
              "    <tr style=\"text-align: right;\">\n",
              "      <th></th>\n",
              "      <th>Low_Cap</th>\n",
              "      <th>High_Cap</th>\n",
              "    </tr>\n",
              "  </thead>\n",
              "  <tbody>\n",
              "    <tr>\n",
              "      <th>USA</th>\n",
              "      <td>0</td>\n",
              "      <td>1</td>\n",
              "    </tr>\n",
              "    <tr>\n",
              "      <th>Germany</th>\n",
              "      <td>0</td>\n",
              "      <td>0</td>\n",
              "    </tr>\n",
              "    <tr>\n",
              "      <th>Japan</th>\n",
              "      <td>0</td>\n",
              "      <td>1</td>\n",
              "    </tr>\n",
              "    <tr>\n",
              "      <th>Brazil</th>\n",
              "      <td>0</td>\n",
              "      <td>1</td>\n",
              "    </tr>\n",
              "    <tr>\n",
              "      <th>India</th>\n",
              "      <td>1</td>\n",
              "      <td>0</td>\n",
              "    </tr>\n",
              "  </tbody>\n",
              "</table>\n",
              "</div>"
            ],
            "text/plain": [
              "         Low_Cap  High_Cap\n",
              "USA            0         1\n",
              "Germany        0         0\n",
              "Japan          0         1\n",
              "Brazil         0         1\n",
              "India          1         0"
            ]
          },
          "metadata": {},
          "execution_count": 55
        }
      ]
    },
    {
      "cell_type": "code",
      "metadata": {
        "id": "C34KxHwMkA1Q"
      },
      "source": [
        ""
      ],
      "execution_count": null,
      "outputs": []
    }
  ]
}